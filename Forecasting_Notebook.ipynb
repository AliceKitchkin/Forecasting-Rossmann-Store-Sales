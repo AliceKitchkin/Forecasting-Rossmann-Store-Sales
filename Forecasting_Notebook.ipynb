{
  "nbformat": 4,
  "nbformat_minor": 0,
  "metadata": {
    "colab": {
      "provenance": [],
      "authorship_tag": "ABX9TyN9OTnyIeGoPnPV0SNHfDk4",
      "include_colab_link": true
    },
    "kernelspec": {
      "name": "python3",
      "display_name": "Python 3"
    },
    "language_info": {
      "name": "python"
    }
  },
  "cells": [
    {
      "cell_type": "markdown",
      "metadata": {
        "id": "view-in-github",
        "colab_type": "text"
      },
      "source": [
        "<a href=\"https://colab.research.google.com/github/AliceKitchkin/Forecasting-Rossmann-Store-Sales/blob/main/Forecasting_Notebook.ipynb\" target=\"_parent\"><img src=\"https://colab.research.google.com/assets/colab-badge.svg\" alt=\"Open In Colab\"/></a>"
      ]
    },
    {
      "cell_type": "markdown",
      "source": [
        "# Vorhersagen von Rossmann Store Sales"
      ],
      "metadata": {
        "id": "mN5iqQON-Cqm"
      }
    },
    {
      "cell_type": "markdown",
      "source": [
        "## 1. Deskriptive Analyse"
      ],
      "metadata": {
        "id": "-Yq9tBkF_kT0"
      }
    },
    {
      "cell_type": "markdown",
      "source": [
        "## 2. Geeignete Merkmale"
      ],
      "metadata": {
        "id": "ZqGWloyK_pKW"
      }
    },
    {
      "cell_type": "markdown",
      "source": [
        "## 3. Modellgüte"
      ],
      "metadata": {
        "id": "wYHcQRWn_yUq"
      }
    },
    {
      "cell_type": "markdown",
      "source": [
        "## 4. Machine Learning Verfahren 1"
      ],
      "metadata": {
        "id": "vJTuYUGp_17r"
      }
    },
    {
      "cell_type": "markdown",
      "source": [
        "## 5. Machine Learning Verfahren 2"
      ],
      "metadata": {
        "id": "dIOrDbWz_9vt"
      }
    },
    {
      "cell_type": "markdown",
      "source": [
        "## 6. Vergleich der Machine Learning Verfahren"
      ],
      "metadata": {
        "id": "dHn8zP2f__P0"
      }
    }
  ]
}